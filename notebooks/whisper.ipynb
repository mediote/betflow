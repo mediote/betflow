{
 "cells": [
  {
   "cell_type": "code",
   "execution_count": 1,
   "id": "6dfb087b",
   "metadata": {},
   "outputs": [],
   "source": [
    "import whisper\n",
    "import torch\n",
    "\n",
    "\n",
    "device = \"cuda\" if torch.cuda.is_available() else \"cpu\"\n",
    "\n",
    "model = whisper.load_model(\"base\")"
   ]
  },
  {
   "cell_type": "code",
   "execution_count": 2,
   "id": "30736ee4",
   "metadata": {},
   "outputs": [
    {
     "data": {
      "text/plain": [
       "'cpu'"
      ]
     },
     "execution_count": 2,
     "metadata": {},
     "output_type": "execute_result"
    }
   ],
   "source": [
    "device"
   ]
  },
  {
   "cell_type": "code",
   "execution_count": 3,
   "id": "5846d1e6",
   "metadata": {},
   "outputs": [
    {
     "name": "stderr",
     "output_type": "stream",
     "text": [
      "/Users/andremediote/Documents/workspace/cloud_embedding/cmer-chronos-promptflow/.venv/lib/python3.11/site-packages/whisper/transcribe.py:126: UserWarning: FP16 is not supported on CPU; using FP32 instead\n",
      "  warnings.warn(\"FP16 is not supported on CPU; using FP32 instead\")\n"
     ]
    },
    {
     "name": "stdout",
     "output_type": "stream",
     "text": [
      "📝 Transcription:\n",
      " Cliente Diz, Olá, Bom dia! Eu gostaria de saber como posso alterar meu endereço de e-mail cadastrado na minha conta. Atendente Diz. Bom dia. Claro, posso te ajudar com isso. Para garantir a segurança da sua conta. Precisarei realizar uma verificação. Você poderia me informar o seu nome completo e o número da sua conta. Por favor? Cliente Diz. Claro, meu nome é João Silva e o número da minha conta é 12 milhões 345678. Atendente Diz. Obrigado pela informação, João, agora, por favor, informe o código de verificação que você recebeu em seu e-mail cadastrado. Cliente Diz. O código é 987654. Atendente Diz. Perfeito. Sua identidade foi confirmada com sucesso. Agora, vou proceder com a alteração do seu e-mail. Qual é o novo endereço de e-mail que você gostaria de cadastrar? Cliente Diz. O novo e-mail é João ponto Silva a roba de e-mail.com. Atendente Diz. Ótimo. A alteração foi realizada com sucesso. Você receberá uma confirmação em seu novo e-mail dentro de alguns minutos. Posso te ajudar com mais alguma coisa? Cliente Diz. Não. Isso é tudo. Muito obrigado. Atendente Diz. Fico a disposição. Tenham um excelente dia.\n"
     ]
    }
   ],
   "source": [
    "# Path to your local audio file\n",
    "audio_path = \"./dialogo_final.mp3\"  # Change to your file name\n",
    "\n",
    "# Transcribe\n",
    "result = model.transcribe(audio_path)\n",
    "\n",
    "# Display result\n",
    "print(\"📝 Transcription:\")\n",
    "print(result[\"text\"])"
   ]
  }
 ],
 "metadata": {
  "kernelspec": {
   "display_name": ".venv",
   "language": "python",
   "name": "python3"
  },
  "language_info": {
   "codemirror_mode": {
    "name": "ipython",
    "version": 3
   },
   "file_extension": ".py",
   "mimetype": "text/x-python",
   "name": "python",
   "nbconvert_exporter": "python",
   "pygments_lexer": "ipython3",
   "version": "3.11.12"
  }
 },
 "nbformat": 4,
 "nbformat_minor": 5
}
