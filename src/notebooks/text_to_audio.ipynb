{
 "cells": [
  {
   "cell_type": "code",
   "execution_count": 4,
   "id": "ebf69936",
   "metadata": {},
   "outputs": [
    {
     "name": "stdout",
     "output_type": "stream",
     "text": [
      "✅ Gerado com sucesso: dialogo_final.mp3\n"
     ]
    }
   ],
   "source": [
    "from gtts import gTTS\n",
    "from pydub import AudioSegment\n",
    "from pydub.utils import which\n",
    "import os\n",
    "\n",
    "# Setup ffmpeg\n",
    "AudioSegment.converter = which(\"ffmpeg\")\n",
    "\n",
    "# Create output directory\n",
    "os.makedirs(\"audio_lines\", exist_ok=True)\n",
    "\n",
    "# Dialogue (simulate male/female)\n",
    "dialogue = [\n",
    "    (\n",
    "        \"Cliente\",\n",
    "        \"Olá, bom dia! Eu gostaria de saber como posso alterar meu endereço de e-mail cadastrado na minha conta.\",\n",
    "    ),\n",
    "    (\n",
    "        \"Atendente\",\n",
    "        \"Bom dia! Claro, posso te ajudar com isso. Para garantir a segurança da sua conta, precisarei realizar uma verificação. Você poderia me informar o seu nome completo e o número da sua senha, por favor?\",\n",
    "    ),\n",
    "    (\n",
    "        \"Cliente\",\n",
    "        \"Claro! Meu nome é João Silva e o número da minha senha é 12345678.\",\n",
    "    ),\n",
    "    (\n",
    "        \"Atendente\",\n",
    "        \"Obrigado pela informação, João. Agora, por favor, informe o código de verificação que você recebeu em seu e-mail cadastrado.\",\n",
    "    ),\n",
    "    (\n",
    "        \"Cliente\",\n",
    "        \"O código é 987654.\",\n",
    "    ),\n",
    "    (\n",
    "        \"Atendente\",\n",
    "        \"Perfeito, sua identidade foi confirmada com sucesso. Agora, vou proceder com a alteração do seu e-mail. Qual é o novo endereço de e-mail que você gostaria de cadastrar?\",\n",
    "    ),\n",
    "    (\n",
    "        \"Cliente\",\n",
    "        \"O novo e-mail é joao.silva@gmail.com.\",\n",
    "    ),\n",
    "    (\n",
    "        \"Atendente\",\n",
    "        \"Ótimo! A alteração foi realizada com sucesso. Você receberá uma confirmação em seu novo e-mail dentro de alguns minutos. Posso te ajudar com mais alguma coisa?\",\n",
    "    ),\n",
    "    (\n",
    "        \"Cliente\",\n",
    "        \"Não, isso é tudo. Muito obrigado!\",\n",
    "    ),\n",
    "    (\n",
    "        \"Atendente\",\n",
    "        \"Fico à disposição! Tenha um excelente dia!\",\n",
    "    ),\n",
    "]\n",
    "\n",
    "\n",
    "# Create individual mp3s\n",
    "segments = []\n",
    "for i, (speaker, line) in enumerate(dialogue):\n",
    "    tts = gTTS(text=f\"{speaker} diz: {line}\", lang=\"pt-br\")\n",
    "    file_path = f\"audio_lines/line_{i:02d}.mp3\"\n",
    "    tts.save(file_path)  # Save the generated speech\n",
    "    segments.append(AudioSegment.from_file(file_path))  # Load it\n",
    "\n",
    "# Combine all segments with pause\n",
    "final_audio = AudioSegment.empty()\n",
    "for seg in segments:\n",
    "    final_audio += seg + AudioSegment.silent(duration=500)\n",
    "\n",
    "# Export final MP3\n",
    "final_audio.export(\"dialogo_final.mp3\", format=\"mp3\")\n",
    "print(\"✅ Gerado com sucesso: dialogo_final.mp3\")"
   ]
  }
 ],
 "metadata": {
  "kernelspec": {
   "display_name": ".venv",
   "language": "python",
   "name": "python3"
  },
  "language_info": {
   "codemirror_mode": {
    "name": "ipython",
    "version": 3
   },
   "file_extension": ".py",
   "mimetype": "text/x-python",
   "name": "python",
   "nbconvert_exporter": "python",
   "pygments_lexer": "ipython3",
   "version": "3.11.12"
  }
 },
 "nbformat": 4,
 "nbformat_minor": 5
}
